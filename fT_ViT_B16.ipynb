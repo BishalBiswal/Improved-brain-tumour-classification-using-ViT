{
  "nbformat": 4,
  "nbformat_minor": 0,
  "metadata": {
    "colab": {
      "provenance": [],
      "gpuType": "T4",
      "include_colab_link": true
    },
    "kernelspec": {
      "name": "python3",
      "display_name": "Python 3"
    },
    "language_info": {
      "name": "python"
    },
    "accelerator": "GPU"
  },
  "cells": [
    {
      "cell_type": "markdown",
      "metadata": {
        "id": "view-in-github",
        "colab_type": "text"
      },
      "source": [
        "<a href=\"https://colab.research.google.com/github/BishalBiswal/Improved-brain-tumour-classification-using-ViT/blob/main/fT_ViT_B16.ipynb\" target=\"_parent\"><img src=\"https://colab.research.google.com/assets/colab-badge.svg\" alt=\"Open In Colab\"/></a>"
      ]
    },
    {
      "cell_type": "code",
      "execution_count": 1,
      "metadata": {
        "colab": {
          "base_uri": "https://localhost:8080/"
        },
        "id": "9UeDWqBoQKwa",
        "outputId": "d9c160cb-c27b-4d26-d27a-45055a107d2c"
      },
      "outputs": [
        {
          "output_type": "stream",
          "name": "stdout",
          "text": [
            "Mounted at /content/drive\n"
          ]
        }
      ],
      "source": [
        "from google.colab import drive\n",
        "drive.mount('/content/drive')\n"
      ]
    },
    {
      "cell_type": "code",
      "source": [
        "import os\n",
        "import torch\n",
        "import torch.nn as nn\n",
        "import torch.optim as optim\n",
        "from torchvision import datasets, transforms\n",
        "from torch.utils.data import DataLoader\n",
        "from sklearn.metrics import confusion_matrix, ConfusionMatrixDisplay, accuracy_score\n",
        "import matplotlib.pyplot as plt\n",
        "from torchvision.models import vit_b_16\n",
        "\n",
        "# Define data augmentation\n",
        "transform = transforms.Compose([\n",
        "    transforms.Resize((224, 224)),\n",
        "    transforms.RandomRotation(degrees=30),\n",
        "    transforms.RandomHorizontalFlip(),\n",
        "    transforms.ColorJitter(brightness=0.2, contrast=0.2, saturation=0.2, hue=0.2),  # Add color jittering\n",
        "    transforms.RandomResizedCrop(224, scale=(0.8, 1.0), ratio=(0.8, 1.2)),  # Random resized crop\n",
        "    transforms.RandomPerspective(distortion_scale=0.2, p=0.5),  # Random perspective transformation\n",
        "    transforms.ToTensor(),\n",
        "    transforms.Normalize([0.485, 0.456, 0.406], [0.229, 0.224, 0.225])\n",
        "])\n",
        "\n",
        "# Load dataset\n",
        "data_dir = '/content/drive/MyDrive/archive(1)'\n",
        "train_dataset = datasets.ImageFolder(os.path.join(data_dir, 'Training'), transform=transform)\n",
        "val_dataset = datasets.ImageFolder(os.path.join(data_dir, 'Testing'), transform=transform)\n",
        "\n",
        "train_loader = DataLoader(train_dataset, batch_size=32, shuffle=True)\n",
        "val_loader = DataLoader(val_dataset, batch_size=32, shuffle=False)\n",
        "\n",
        "# Load pre-trained ViT model and fine-tune it for your number of classes\n",
        "model = vit_b_16(pretrained=True)\n",
        "# Access the last layer in the heads object\n",
        "model.heads[-1] = nn.Linear(model.heads[-1].in_features, len(train_dataset.classes))  # Adjust the final layer\n",
        "model = model.to('cuda' if torch.cuda.is_available() else 'cpu')\n",
        "\n",
        "# Define dropout\n",
        "model.dropout = nn.Dropout(0.2)\n",
        "\n",
        "# Define loss function and optimizer\n",
        "criterion = nn.CrossEntropyLoss()\n",
        "optimizer = optim.AdamW(model.parameters(), lr=1e-5)\n",
        "\n",
        "# Training loop\n",
        "num_epochs = 20\n",
        "best_val_loss = float('inf')\n",
        "patience = 5  # Number of epochs to wait if validation loss doesn't improve\n",
        "counter = 0  # Counter to track the number of epochs with no improvement\n",
        "\n",
        "for epoch in range(num_epochs):\n",
        "    model.train()\n",
        "    running_loss = 0.0\n",
        "    correct_train = 0\n",
        "    total_train = 0\n",
        "\n",
        "    for inputs, labels in train_loader:\n",
        "        inputs, labels = inputs.to('cuda'), labels.to('cuda')\n",
        "\n",
        "        optimizer.zero_grad()\n",
        "        outputs = model(inputs)\n",
        "        loss = criterion(outputs, labels)\n",
        "        loss.backward()\n",
        "        optimizer.step()\n",
        "\n",
        "        running_loss += loss.item()\n",
        "        _, preds = torch.max(outputs, 1)\n",
        "        correct_train += (preds == labels).sum().item()\n",
        "        total_train += labels.size(0)\n",
        "\n",
        "    train_loss = running_loss / len(train_loader)\n",
        "    train_acc = correct_train / total_train\n",
        "    print(f'Epoch [{epoch+1}/{num_epochs}], Loss: {train_loss:.4f}, Accuracy: {train_acc:.4f}')\n",
        "\n",
        "    # Validation\n",
        "    model.eval()\n",
        "    val_loss = 0.0\n",
        "    correct_val = 0\n",
        "    total_val = 0\n",
        "\n",
        "    with torch.no_grad():\n",
        "        for inputs, labels in val_loader:\n",
        "            inputs, labels = inputs.to('cuda'), labels.to('cuda')\n",
        "            outputs = model(inputs)\n",
        "            loss = criterion(outputs, labels)\n",
        "            val_loss += loss.item()\n",
        "            _, preds = torch.max(outputs, 1)\n",
        "            correct_val += (preds == labels).sum().item()\n",
        "            total_val += labels.size(0)\n",
        "\n",
        "    val_loss /= len(val_loader)\n",
        "    val_acc = correct_val / total_val\n",
        "    print(f'Validation Loss: {val_loss:.4f}, Accuracy: {val_acc:.4f}')\n",
        "\n",
        "    # Check for early stopping\n",
        "    if val_loss < best_val_loss:\n",
        "        best_val_loss = val_loss\n",
        "        counter = 0\n",
        "    else:\n",
        "        counter += 1\n",
        "\n",
        "        if counter >= patience:\n",
        "            print(\"Early stopping triggered. No improvement in validation loss.\")\n",
        "            break\n",
        "\n",
        "print(\"Training complete.\")\n",
        "\n",
        "# Compute and plot confusion matrix\n",
        "model.eval()\n",
        "y_true = []\n",
        "y_pred = []\n",
        "\n",
        "with torch.no_grad():\n",
        "    for inputs, labels in val_loader:\n",
        "        inputs, labels = inputs.to('cuda'), labels.to('cuda')\n",
        "        outputs = model(inputs)\n",
        "        _, preds = torch.max(outputs, 1)\n",
        "\n",
        "        y_true.extend(labels.cpu().numpy())\n",
        "        y_pred.extend(preds.cpu().numpy())\n",
        "\n",
        "# Compute confusion matrix\n",
        "cm = confusion_matrix(y_true, y_pred)\n",
        "disp = ConfusionMatrixDisplay(confusion_matrix=cm, display_labels=train_dataset.classes)\n",
        "disp.plot(cmap=plt.cm.Blues)\n",
        "plt.show()\n",
        "\n",
        "# Compute accuracy\n",
        "accuracy = accuracy_score(y_true, y_pred)\n",
        "print(f'Validation Accuracy: {accuracy:.4f}')"
      ],
      "metadata": {
        "colab": {
          "base_uri": "https://localhost:8080/",
          "height": 1000
        },
        "id": "UyGAx0mOQPkI",
        "outputId": "a32fef9a-a22c-4b57-a1bc-42cdb9937926"
      },
      "execution_count": 2,
      "outputs": [
        {
          "output_type": "stream",
          "name": "stderr",
          "text": [
            "/usr/local/lib/python3.10/dist-packages/torchvision/models/_utils.py:208: UserWarning: The parameter 'pretrained' is deprecated since 0.13 and may be removed in the future, please use 'weights' instead.\n",
            "  warnings.warn(\n",
            "/usr/local/lib/python3.10/dist-packages/torchvision/models/_utils.py:223: UserWarning: Arguments other than a weight enum or `None` for 'weights' are deprecated since 0.13 and may be removed in the future. The current behavior is equivalent to passing `weights=ViT_B_16_Weights.IMAGENET1K_V1`. You can also use `weights=ViT_B_16_Weights.DEFAULT` to get the most up-to-date weights.\n",
            "  warnings.warn(msg)\n",
            "Downloading: \"https://download.pytorch.org/models/vit_b_16-c867db91.pth\" to /root/.cache/torch/hub/checkpoints/vit_b_16-c867db91.pth\n",
            "100%|██████████| 330M/330M [00:01<00:00, 190MB/s]\n"
          ]
        },
        {
          "output_type": "stream",
          "name": "stdout",
          "text": [
            "Epoch [1/20], Loss: 0.3646, Accuracy: 0.8694\n",
            "Validation Loss: 0.1617, Accuracy: 0.9443\n",
            "Epoch [2/20], Loss: 0.1176, Accuracy: 0.9606\n",
            "Validation Loss: 0.0916, Accuracy: 0.9710\n",
            "Epoch [3/20], Loss: 0.0858, Accuracy: 0.9704\n",
            "Validation Loss: 0.0675, Accuracy: 0.9802\n",
            "Epoch [4/20], Loss: 0.0501, Accuracy: 0.9853\n",
            "Validation Loss: 0.0599, Accuracy: 0.9809\n",
            "Epoch [5/20], Loss: 0.0393, Accuracy: 0.9883\n",
            "Validation Loss: 0.0468, Accuracy: 0.9832\n",
            "Epoch [6/20], Loss: 0.0363, Accuracy: 0.9876\n",
            "Validation Loss: 0.0575, Accuracy: 0.9825\n",
            "Epoch [7/20], Loss: 0.0264, Accuracy: 0.9923\n",
            "Validation Loss: 0.0448, Accuracy: 0.9863\n",
            "Epoch [8/20], Loss: 0.0256, Accuracy: 0.9909\n",
            "Validation Loss: 0.0511, Accuracy: 0.9870\n",
            "Epoch [9/20], Loss: 0.0197, Accuracy: 0.9933\n",
            "Validation Loss: 0.0251, Accuracy: 0.9916\n",
            "Epoch [10/20], Loss: 0.0210, Accuracy: 0.9932\n",
            "Validation Loss: 0.0339, Accuracy: 0.9901\n",
            "Epoch [11/20], Loss: 0.0173, Accuracy: 0.9946\n",
            "Validation Loss: 0.0359, Accuracy: 0.9901\n",
            "Epoch [12/20], Loss: 0.0142, Accuracy: 0.9954\n",
            "Validation Loss: 0.0379, Accuracy: 0.9886\n",
            "Epoch [13/20], Loss: 0.0190, Accuracy: 0.9935\n",
            "Validation Loss: 0.0416, Accuracy: 0.9916\n",
            "Epoch [14/20], Loss: 0.0139, Accuracy: 0.9956\n",
            "Validation Loss: 0.0284, Accuracy: 0.9939\n",
            "Early stopping triggered. No improvement in validation loss.\n",
            "Training complete.\n"
          ]
        },
        {
          "output_type": "display_data",
          "data": {
            "text/plain": [
              "<Figure size 640x480 with 2 Axes>"
            ],
            "image/png": "[encoded data removed]"
          },
          "metadata": {}
        },
        {
          "output_type": "stream",
          "name": "stdout",
          "text": [
            "Validation Accuracy: 0.9954\n"
          ]
        }
      ]
    }
  ]
}